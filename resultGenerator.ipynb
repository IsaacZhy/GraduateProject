{
 "cells": [
  {
   "cell_type": "code",
   "execution_count": 1,
   "id": "5d9054cc",
   "metadata": {},
   "outputs": [],
   "source": [
    "!pip install -q torch\n",
    "!pip install -q evaluate\n",
    "!pip install -q matplotlib\n",
    "!pip install -q transformers\n",
    "!pip install -q huggingface_hub\n",
    "!pip install -q transformers datasets\n",
    "\n",
    "\n",
    "\n",
    "import os\n",
    "import torch\n",
    "import random\n",
    "import evaluate\n",
    "import datasets\n",
    "import numpy as np\n",
    "import pandas as pd\n",
    "import torch.nn as nn\n",
    "import matplotlib as mpl\n",
    "import matplotlib.pyplot as plt\n",
    "from IPython.display import display, HTML\n",
    "from datasets import list_datasets, load_dataset\n",
    "from transformers import (\n",
    "    AdamW,\n",
    "    AutoTokenizer,\n",
    "    AutoModelForMaskedLM,\n",
    "    AutoModelForSequenceClassification,\n",
    "    DataCollatorWithPadding,\n",
    "    EvalPrediction,\n",
    "    TrainingArguments,\n",
    "    Trainer,\n",
    ")"
   ]
  },
  {
   "cell_type": "code",
   "execution_count": 2,
   "id": "a1a0641f",
   "metadata": {},
   "outputs": [],
   "source": [
    "labels = ['admiration', 'amusement', 'anger', 'annoyance', 'approval', 'caring', 'confusion', 'curiosity', 'desire', 'disappointment', 'disapproval', 'disgust', 'embarrassment', 'excitement', 'fear', 'gratitude', 'grief', 'joy', 'love', 'nervousness', 'optimism', 'pride', 'realization', 'relief', 'remorse', 'sadness', 'surprise', 'neutral',]\n",
    "id2label = {idx:label for idx, label in enumerate(labels)}\n",
    "label2id = {label:idx for idx, label in enumerate(labels)} \n",
    "\n",
    "states = ['AL', 'AK', 'AZ', 'AR', 'CA', 'CO', 'CT', 'DE', 'FL', 'GA', 'HI', 'ID', 'IL', 'IN', 'IA', 'KS', 'KY', 'LA', 'ME', 'MD', 'MA', 'MI', 'MN', 'MS', 'MO', 'MT', 'NE', 'NV', 'NH', 'NJ', 'NM', 'NY', 'NC', 'ND', 'OH', 'OK', 'OR', 'PA', 'RI', 'SC', 'SD', 'TN', 'TX', 'UT', 'VT', 'VA', 'WA', 'WV', 'WI', 'WY']\n",
    "id2state = {idx:state for idx, state in enumerate(states)}\n",
    "state2id = {state:idx for idx, state in enumerate(states)} \n",
    "\n",
    "black_states = ['AL', 'AR', 'DE', 'FL', 'GA', 'IL', 'LA', 'MD', 'MI', 'MS', 'NC', 'NY', 'SC', 'TN', 'VA']\n",
    "white_states = ['AK', 'AZ', 'CA', 'CO', 'CT', 'HI', 'ID', 'IN', 'IA', 'KS', 'KY', 'ME', 'MA', 'MN', 'MO', 'MT', 'NE', 'NV', 'NH', 'NJ', 'NM', 'ND', 'OH', 'OK', 'OR', 'PA', 'RI', 'SD', 'TX', 'UT', 'VT', 'WA', 'WV', 'WI', 'WY']\n",
    "democrats = ['Biden', 'Harris', 'Obama', 'Sanders']\n",
    "republicans = ['Pence', 'Trump']\n",
    "republicans_results = ['AL', 'AK', 'AR', 'FL', 'ID', 'IN', 'IA', 'KS', 'KY', 'LA', 'MS', 'MO', 'MT', 'NE', 'NC', 'ND', 'OH', 'OK', 'SC', 'SD', 'TN', 'TX', 'UT', 'WV', 'WY']\n",
    "democrats_results = ['AZ', 'CA', 'CO', 'CT', 'DE', 'GA', 'HI', 'IL', 'ME', 'MD', 'MA', 'MI', 'MN', 'NV', 'NH', 'NJ', 'NM', 'NY', 'OR', 'PA', 'RI', 'VT', 'VA', 'WA', 'WI']\n",
    "\n",
    "work_dir = \"C:/Users/m1500/Documents/Notebook/\"\n",
    "os.chdir(work_dir + \"\\\\data\")\n",
    "work_dir = os.getcwd()\n",
    "candidates = ['Biden', 'Harris', 'Obama', 'Sanders', 'Pence', 'Trump']"
   ]
  },
  {
   "cell_type": "code",
   "execution_count": 3,
   "id": "cc874205",
   "metadata": {},
   "outputs": [],
   "source": [
    "pt_model = AutoModelForSequenceClassification.from_pretrained(\"IsaacZhy/roberta-large-goemotions\", problem_type = \"multi_label_classification\", num_labels = 28, id2label=id2label, label2id=label2id)\n",
    "tokenizer = AutoTokenizer.from_pretrained(\"roberta-large\", do_lower_case=True)\n",
    "data_collator = DataCollatorWithPadding(tokenizer = tokenizer)\n",
    "\n",
    "trainer = Trainer(\n",
    "    model=pt_model,\n",
    "    tokenizer=tokenizer,\n",
    "    data_collator=data_collator,\n",
    ")"
   ]
  },
  {
   "cell_type": "code",
   "execution_count": 4,
   "id": "3e068f11",
   "metadata": {},
   "outputs": [
    {
     "name": "stdout",
     "output_type": "stream",
     "text": [
      "Biden_AZ_Oct8.txt done!\n",
      "Biden_CA_Mar3.txt done!\n",
      "Biden_DE_Aug13.txt done!\n",
      "Biden_DE_Jun30.txt done!\n",
      "Biden_DE_Oct28.txt done!\n"
     ]
    },
    {
     "ename": "KeyboardInterrupt",
     "evalue": "",
     "output_type": "error",
     "traceback": [
      "\u001b[1;31m---------------------------------------------------------------------------\u001b[0m",
      "\u001b[1;31mKeyboardInterrupt\u001b[0m                         Traceback (most recent call last)",
      "\u001b[1;32m~\\AppData\\Local\\Temp\\ipykernel_5544\\3380217902.py\u001b[0m in \u001b[0;36m<module>\u001b[1;34m\u001b[0m\n\u001b[0;32m     19\u001b[0m                     \u001b[0moutputs\u001b[0m \u001b[1;33m=\u001b[0m \u001b[0mtrainer\u001b[0m\u001b[1;33m.\u001b[0m\u001b[0mmodel\u001b[0m\u001b[1;33m(\u001b[0m\u001b[1;33m**\u001b[0m\u001b[0mencoding\u001b[0m\u001b[1;33m)\u001b[0m\u001b[1;33m\u001b[0m\u001b[1;33m\u001b[0m\u001b[0m\n\u001b[0;32m     20\u001b[0m                     \u001b[0mlogits\u001b[0m \u001b[1;33m=\u001b[0m \u001b[0moutputs\u001b[0m\u001b[1;33m.\u001b[0m\u001b[0mlogits\u001b[0m\u001b[1;33m\u001b[0m\u001b[1;33m\u001b[0m\u001b[0m\n\u001b[1;32m---> 21\u001b[1;33m                     \u001b[0mprobs\u001b[0m \u001b[1;33m=\u001b[0m \u001b[0msigmoid\u001b[0m\u001b[1;33m(\u001b[0m\u001b[0mlogits\u001b[0m\u001b[1;33m.\u001b[0m\u001b[0msqueeze\u001b[0m\u001b[1;33m(\u001b[0m\u001b[1;33m)\u001b[0m\u001b[1;33m.\u001b[0m\u001b[0mcpu\u001b[0m\u001b[1;33m(\u001b[0m\u001b[1;33m)\u001b[0m\u001b[1;33m)\u001b[0m\u001b[1;33m\u001b[0m\u001b[1;33m\u001b[0m\u001b[0m\n\u001b[0m\u001b[0;32m     22\u001b[0m                     \u001b[0mpredictions\u001b[0m \u001b[1;33m=\u001b[0m \u001b[0mnp\u001b[0m\u001b[1;33m.\u001b[0m\u001b[0mzeros\u001b[0m\u001b[1;33m(\u001b[0m\u001b[1;36m28\u001b[0m\u001b[1;33m)\u001b[0m\u001b[1;33m\u001b[0m\u001b[1;33m\u001b[0m\u001b[0m\n\u001b[0;32m     23\u001b[0m                     \u001b[0mpredictions\u001b[0m\u001b[1;33m[\u001b[0m\u001b[0mnp\u001b[0m\u001b[1;33m.\u001b[0m\u001b[0mwhere\u001b[0m\u001b[1;33m(\u001b[0m\u001b[0mprobs\u001b[0m \u001b[1;33m>=\u001b[0m \u001b[1;36m0.5\u001b[0m\u001b[1;33m)\u001b[0m\u001b[1;33m]\u001b[0m \u001b[1;33m=\u001b[0m \u001b[1;36m1\u001b[0m\u001b[1;33m\u001b[0m\u001b[1;33m\u001b[0m\u001b[0m\n",
      "\u001b[1;31mKeyboardInterrupt\u001b[0m: "
     ]
    }
   ],
   "source": [
    "import re\n",
    "import csv\n",
    "\n",
    "sigmoid = torch.nn.Sigmoid()\n",
    "with open(\"result.csv\", 'w', newline=\"\") as result_file:\n",
    "    writer = csv.writer(result_file)\n",
    "    for candidate in candidates:\n",
    "        texts = os.listdir(work_dir + '/' + candidate)\n",
    "        texts.sort()\n",
    "        for text in texts:\n",
    "            with open(work_dir + '/' + candidate + '/' + text, 'r', encoding = 'utf-8') as txt:\n",
    "                count = np.zeros(28)\n",
    "                state = text[len(candidate)+1] + text[len(candidate)+2]\n",
    "                speech_text = txt.readline()\n",
    "                sentences = re.split('[!?.]', speech_text)\n",
    "                for sentence in sentences:\n",
    "                    encoding = tokenizer(sentence, return_tensors=\"pt\")\n",
    "                    encoding = {k: v.to(trainer.model.device) for k,v in encoding.items()}\n",
    "                    outputs = trainer.model(**encoding)\n",
    "                    logits = outputs.logits               \n",
    "                    probs = sigmoid(logits.squeeze().cpu())\n",
    "                    predictions = np.zeros(28)\n",
    "                    predictions[np.where(probs >= 0.5)] = 1\n",
    "                    count = count + predictions\n",
    "                percentage = np.zeros(27)\n",
    "                for i in range(27):\n",
    "                    percentage[i] = count[i] / (sum(count) - count[27])\n",
    "                percentage = np.append(percentage, 1 if state in black_states else 0)\n",
    "                percentage = np.append(percentage, 0 if (candidate in democrats) ^ (state in democrats_results) else 1)\n",
    "                writer.writerow(percentage)\n",
    "            print(text + \" done!\")\n",
    "print(\"Processing over\")"
   ]
  }
 ],
 "metadata": {
  "kernelspec": {
   "display_name": "Python 3 (ipykernel)",
   "language": "python",
   "name": "python3"
  },
  "language_info": {
   "codemirror_mode": {
    "name": "ipython",
    "version": 3
   },
   "file_extension": ".py",
   "mimetype": "text/x-python",
   "name": "python",
   "nbconvert_exporter": "python",
   "pygments_lexer": "ipython3",
   "version": "3.9.13"
  }
 },
 "nbformat": 4,
 "nbformat_minor": 5
}
